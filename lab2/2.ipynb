{
 "cells": [
  {
   "cell_type": "code",
   "execution_count": 4,
   "metadata": {},
   "outputs": [
    {
     "name": "stdout",
     "output_type": "stream",
     "text": [
      "Числова зміна:  1\n",
      "Рядок з числа: 42\n",
      "Список:  ['a', '434', 'Слово', 4.4]\n"
     ]
    },
    {
     "ename": "NameError",
     "evalue": "name 'kjb' is not defined",
     "output_type": "error",
     "traceback": [
      "\u001b[0;31m---------------------------------------------------------------------------\u001b[0m",
      "\u001b[0;31mNameError\u001b[0m                                 Traceback (most recent call last)",
      "Cell \u001b[0;32mIn[4], line 12\u001b[0m\n\u001b[1;32m      9\u001b[0m с \u001b[38;5;241m=\u001b[39m [\u001b[38;5;124m\"\u001b[39m\u001b[38;5;124ma\u001b[39m\u001b[38;5;124m\"\u001b[39m, \u001b[38;5;124m\"\u001b[39m\u001b[38;5;124m434\u001b[39m\u001b[38;5;124m\"\u001b[39m, \u001b[38;5;124m\"\u001b[39m\u001b[38;5;124mСлово\u001b[39m\u001b[38;5;124m\"\u001b[39m, \u001b[38;5;241m4.4\u001b[39m] \u001b[38;5;66;03m# List\u001b[39;00m\n\u001b[1;32m     10\u001b[0m \u001b[38;5;28mprint\u001b[39m(\u001b[38;5;124m\"\u001b[39m\u001b[38;5;124mСписок: \u001b[39m\u001b[38;5;124m\"\u001b[39m,с)\n\u001b[0;32m---> 12\u001b[0m d \u001b[38;5;241m=\u001b[39m {\u001b[38;5;124m\"\u001b[39m\u001b[38;5;124mgvj\u001b[39m\u001b[38;5;124m\"\u001b[39m: \u001b[38;5;124m\"\u001b[39m\u001b[38;5;124mjhvv\u001b[39m\u001b[38;5;124m\"\u001b[39m, \u001b[38;5;124m\"\u001b[39m\u001b[38;5;124mkvbjl\u001b[39m\u001b[38;5;124m\"\u001b[39m: \u001b[38;5;124m\"\u001b[39m\u001b[38;5;124mogo\u001b[39m\u001b[38;5;124m\"\u001b[39m, \u001b[38;5;124m\"\u001b[39m\u001b[38;5;124mjoj\u001b[39m\u001b[38;5;124m\"\u001b[39m: \u001b[43mkjb\u001b[49m} \u001b[38;5;66;03m# Dict\u001b[39;00m\n\u001b[1;32m     13\u001b[0m \u001b[38;5;28mprint\u001b[39m(d)\n\u001b[1;32m     15\u001b[0m e \u001b[38;5;241m=\u001b[39m (\u001b[38;5;124m\"\u001b[39m\u001b[38;5;124ma\u001b[39m\u001b[38;5;124m\"\u001b[39m, a) \u001b[38;5;66;03m# Tuple\u001b[39;00m\n",
      "\u001b[0;31mNameError\u001b[0m: name 'kjb' is not defined"
     ]
    }
   ],
   "source": [
    "a = \"змінна з текстом\"\n",
    "b = 1 # числова Змінна\n",
    "print(\"Числова зміна: \", b)\n",
    "\n",
    "number = 42\n",
    "number_str = str(number)\n",
    "print(\"Рядок з числа:\", number_str) #str\n",
    "\n",
    "с = [\"a\", \"434\", \"Слово\", 4.4] # List\n",
    "print(\"Список: \",с)\n",
    "\n",
    "d = {\"gvj\": \"jhvv\", \"kvbjl\": \"ogo\", \"joj\": kjb} # Dict\n",
    "print(d)\n",
    "\n",
    "e = (\"a\", a) # Tuple\n",
    "f = {\"ss\", a} # Set"
   ]
  },
  {
   "cell_type": "code",
   "execution_count": 5,
   "metadata": {},
   "outputs": [
    {
     "name": "stdout",
     "output_type": "stream",
     "text": [
      "Результат додавання:  12\n",
      "Число 10 парне?  True\n",
      "Максимальне з трьох чисел (3, 33, 333):  333\n"
     ]
    }
   ],
   "source": [
    "#Functionals\n",
    "# Функція для додавання двох чисел\n",
    "def SUMmer(a, b):\n",
    "    return a + b\n",
    "\n",
    "# Функція для перевірки, чи є число парним\n",
    "def pair_of_socks(n):\n",
    "    return n % 2 == 0\n",
    "\n",
    "# Функція для знаходження максимальної з трьох чисел\n",
    "def max_of_max(x, y, z):\n",
    "    return max(x, y, z)\n",
    "\n",
    "# Виклик функцій та вивід результатів\n",
    "result_SUMmer = SUMmer(6, 6)\n",
    "result_pair_of_socks = pair_of_socks(10)\n",
    "result_max = max_of_max(3, 33, 333)\n",
    "\n",
    "print(\"Результат додавання: \", result_SUMmer)\n",
    "print(\"Число 10 парне? \", result_pair_of_socks)\n",
    "print(\"Максимальне з трьох чисел (3, 33, 333): \", result_max)"
   ]
  },
  {
   "cell_type": "code",
   "execution_count": 7,
   "metadata": {},
   "outputs": [
    {
     "name": "stdout",
     "output_type": "stream",
     "text": [
      "Буква: в\n",
      "Буква: k\n",
      "Буква: f\n",
      "Буква: o\n",
      "Буква: p\n",
      "Буква: s\n",
      "Буква: а\n",
      "Факторіал числа 5 дорівнює 120\n",
      "Сума чисел від 1 до 5: 15\n"
     ]
    }
   ],
   "source": [
    "# Loop(цикл): \n",
    "#1 Перебір списку чисел\n",
    "letters = [\"в\", \"k\", \"f\", \"o\", \"p\", \"s\", \"а\"]\n",
    "\n",
    "for letter in letters:\n",
    "    print(f\"Буква: {letter}\")\n",
    "\n",
    "#2 Функція для обчислення факторіалу + цикл\n",
    "def factorial(n):\n",
    "    result = 1\n",
    "    for i in range(1, n + 1):\n",
    "        result *= i  # Множимо result на i\n",
    "    return result\n",
    "\n",
    "# Виклик функції\n",
    "number = 5\n",
    "fact = factorial(number)\n",
    "\n",
    "print(f\"Факторіал числа {number} дорівнює {fact}\")\n",
    "\n",
    "#3 Обчислення суми чисел від 1 до 5\n",
    "total_sum = 0\n",
    "\n",
    "for i in range(1, 6):  # Перебір чисел від 1 до 5\n",
    "    total_sum += i     # Додавання кожного числа до total_sum\n",
    "\n",
    "print(f\"Сума чисел від 1 до 5: {total_sum}\")"
   ]
  },
  {
   "cell_type": "code",
   "execution_count": 8,
   "metadata": {},
   "outputs": [
    {
     "name": "stdout",
     "output_type": "stream",
     "text": [
      "Значить А=True\n",
      "Значить B=True\n",
      "Пора року: Весна\n"
     ]
    }
   ],
   "source": [
    "#Розгалуження:\n",
    "#1\n",
    "A = True\n",
    "print(\"Значить А=True\" if A else \"Значить А=False\")\n",
    "\n",
    "#2\n",
    "B = False\n",
    "print(\"Значить B=False\" if B else \"Значить B=True\" )\n",
    "\n",
    "#3\n",
    "month = input(\"Введіть місяць: \").lower()\n",
    "\n",
    "if month in ['грудень', 'січень', 'лютий']:\n",
    "    season = \"Зима\"\n",
    "elif month in ['березень', 'квітень', 'травень']:\n",
    "    season = \"Весна\"\n",
    "elif month in ['червень', 'липень', 'серпень']:\n",
    "    season = \"Літо\"\n",
    "elif month in ['вересень', 'жовтень', 'листопад']:\n",
    "    season = \"Осінь\"\n",
    "else:\n",
    "    season = \"Невірний місяць\"\n",
    "\n",
    "print(f\"Пора року: {season}\")"
   ]
  },
  {
   "cell_type": "code",
   "execution_count": 9,
   "metadata": {},
   "outputs": [
    {
     "name": "stdout",
     "output_type": "stream",
     "text": [
      "division by zero\n",
      "А вот воно що!\n",
      "Дякуємо за використання програми!\n"
     ]
    }
   ],
   "source": [
    "#1\n",
    "A = 0\n",
    "try:\n",
    "    print(\"Що буде якщо\", 10/A, \"?\")\n",
    "except Exception as e:\n",
    "    print(e)\n",
    "finally:\n",
    "    print(\"А вот воно що!\")\n",
    "#2\n",
    "try:\n",
    "    numerator = float(input(\"Введіть чисельник: \"))\n",
    "    denominator = float(input(\"Введіть знаменник: \"))\n",
    "    result = numerator / denominator\n",
    "except ZeroDivisionError:\n",
    "    print(\"Помилка: Ділення на нуль!\")\n",
    "except ValueError:\n",
    "    print(\"Помилка: Введіть дійсні числа!\")\n",
    "finally:\n",
    "    print(\"Дякуємо за використання програми!\")"
   ]
  },
  {
   "cell_type": "code",
   "execution_count": 10,
   "metadata": {},
   "outputs": [
    {
     "name": "stdout",
     "output_type": "stream",
     "text": [
      "еанагамлгпд\n",
      "Не \n",
      "лмнсшнщмжєо шрпсмдижр смдижтл\n",
      "вапролщ\n"
     ]
    }
   ],
   "source": [
    "# Контекст-менеджер with\n",
    "# Запис даних у файл\n",
    "with open('example.txt', 'w') as file:\n",
    "    file.write(\"еанагамлгпд\\n\"\n",
    "    \"Не \\n\"\n",
    "    \"лмнсшнщмжєо шрпсмдижр смдижтл\\n\")\n",
    "    file.write(\"вапролщ\")\n",
    "\n",
    "# Читання даних з файлу\n",
    "with open('example.txt', 'r') as file:\n",
    "    content = file.read()\n",
    "    print(content)"
   ]
  },
  {
   "cell_type": "code",
   "execution_count": 11,
   "metadata": {},
   "outputs": [
    {
     "name": "stdout",
     "output_type": "stream",
     "text": [
      "Лямбда-функції використовуються для створення невеликих функцій без необхідності оголошувати їх за допомогою def\n",
      "Квадрат числа 5: 25\n"
     ]
    }
   ],
   "source": [
    "#Лямбди\n",
    "print(\"Лямбда-функції використовуються для створення невеликих функцій без необхідності оголошувати їх за допомогою def\")\n",
    "\n",
    "# Лямбда-функція для обчислення квадрата\n",
    "square = lambda x: x ** 2\n",
    "\n",
    "# Використання лямбда-функції\n",
    "result = square(5)\n",
    "print(f\"Квадрат числа 5: {result}\")"
   ]
  },
  {
   "cell_type": "code",
   "execution_count": 12,
   "metadata": {},
   "outputs": [
    {
     "name": "stdout",
     "output_type": "stream",
     "text": [
      "Ім'я: лиоть, Вік: 20, Висота: 1.65, Студент: True\n",
      "Квадрат числа 1: 1\n",
      "Квадрат числа 2: 4\n",
      "Квадрат числа 3: 9\n",
      "Квадрат числа 4: 16\n",
      "Квадрат числа 5: 25\n",
      "Фрукт: яблуко\n",
      "Фрукт: банан\n",
      "Фрукт: апельсин\n",
      "Фрукт: киві\n"
     ]
    }
   ],
   "source": [
    "#Приклади ChatGPT\n",
    "# Оголошення змінних\n",
    "name = \"лиоть\"\n",
    "age = 20\n",
    "height = 1.65\n",
    "is_student = True\n",
    "\n",
    "# Вивід змінних\n",
    "print(f\"Ім'я: {name}, Вік: {age}, Висота: {height}, Студент: {is_student}\")\n",
    "\n",
    "# Цикл для виводу квадратів чисел від 1 до 5\n",
    "for i in range(1, 6):\n",
    "    print(f\"Квадрат числа {i}: {i ** 2}\")\n",
    "\n",
    "# Оголошення списку та його обробка\n",
    "fruits = [\"яблуко\", \"банан\", \"апельсин\"]\n",
    "\n",
    "# Додавання елемента\n",
    "fruits.append(\"киві\")\n",
    "\n",
    "# Вивід списку\n",
    "for fruit in fruits:\n",
    "    print(f\"Фрукт: {fruit}\")"
   ]
  }
 ],
 "metadata": {
  "kernelspec": {
   "display_name": ".venv",
   "language": "python",
   "name": "python3"
  },
  "language_info": {
   "codemirror_mode": {
    "name": "ipython",
    "version": 3
   },
   "file_extension": ".py",
   "mimetype": "text/x-python",
   "name": "python",
   "nbconvert_exporter": "python",
   "pygments_lexer": "ipython3",
   "version": "3.12.1"
  }
 },
 "nbformat": 4,
 "nbformat_minor": 2
}
