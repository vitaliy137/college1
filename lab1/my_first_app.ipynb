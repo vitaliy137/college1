{
 "cells": [
  {
   "cell_type": "markdown",
   "metadata": {},
   "source": [
    "Иоя програма"
   ]
  },
  {
   "cell_type": "code",
   "execution_count": 2,
   "metadata": {},
   "outputs": [
    {
     "name": "stdout",
     "output_type": "stream",
     "text": [
      "Vitaliy start programming at 2024-11-28 22:50:26.478243. Lviv is the best city!\n"
     ]
    }
   ],
   "source": [
    "from datetime import datetime\n",
    "name = \"Vitaliy\"\n",
    "location = \"Lviv\"\n",
    "\n",
    "print(f\"{name} start programming at {datetime.now()}. {location} is the best city!\")"
   ]
  },
  {
   "cell_type": "markdown",
   "metadata": {},
   "source": [
    "---\n",
    "\n",
    "## Перша програма від штучного інтелекту\n",
    "\n",
    "### Питання до ChatGPT:\n",
    "\n",
    "> **Яку першу програму ви б написали як штучний інтелект, і чи можете пояснити її?**\n",
    "\n",
    "### Відповідь від ChatGPT:\n",
    "\n",
    "Як першу програму я б написав **\"Hello, World!\"**, адже це традиційний спосіб почати навчання програмуванню в будь-якій мові. Ця програма проста, але дає змогу зрозуміти, як працює компіляція або інтерпретація коду та вивід інформації на екран.\n",
    "\n",
    "Ось приклад програми мовою C++:\n",
    "\n",
    "```cpp\n",
    "#include <iostream>\n",
    "\n",
    "int main() {\n",
    "    // Виводимо привітання у консоль\n",
    "    std::cout << \"Hello, World!\" << std::endl;\n",
    "    return 0;\n",
    "}\n"
   ]
  }
 ],
 "metadata": {
  "kernelspec": {
   "display_name": ".venv",
   "language": "python",
   "name": "python3"
  },
  "language_info": {
   "codemirror_mode": {
    "name": "ipython",
    "version": 3
   },
   "file_extension": ".py",
   "mimetype": "text/x-python",
   "name": "python",
   "nbconvert_exporter": "python",
   "pygments_lexer": "ipython3",
   "version": "3.12.1"
  }
 },
 "nbformat": 4,
 "nbformat_minor": 2
}
